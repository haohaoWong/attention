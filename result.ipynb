{
 "cells": [
  {
   "cell_type": "code",
   "execution_count": 3,
   "metadata": {},
   "outputs": [],
   "source": [
    "import numpy as np \n",
    "from PIL import Image\n",
    "import matplotlib.pyplot as plt\n",
    "from utils import*\n",
    "from pysift import get_sift_points\n"
   ]
  },
  {
   "cell_type": "code",
   "execution_count": 4,
   "metadata": {},
   "outputs": [],
   "source": [
    "img_1 = 'assignment/pair1/000006.png'\n",
    "img_2 = 'assignment/pair1/000007.png'\n"
   ]
  },
  {
   "cell_type": "code",
   "execution_count": 2,
   "metadata": {},
   "outputs": [
    {
     "data": {
      "text/plain": [
       "'assignment/pair1/'"
      ]
     },
     "execution_count": 2,
     "metadata": {},
     "output_type": "execute_result"
    }
   ],
   "source": [
    "string = \"assignment/pair1/K.txt\"\n",
    "result = string[:string.rfind('/') + 1]\n",
    "result\n"
   ]
  },
  {
   "cell_type": "code",
   "execution_count": 5,
   "metadata": {},
   "outputs": [
    {
     "name": "stdout",
     "output_type": "stream",
     "text": [
      "[[ 594.84455279  987.59363994]\n",
      " [   8.46389971 1209.91461417]\n",
      " [ 419.25425162   43.81932476]\n",
      " ...\n",
      " [ 975.90274262  450.82718935]\n",
      " [ 888.08209963  529.33576063]\n",
      " [ 739.9499023   554.28907395]]\n"
     ]
    }
   ],
   "source": [
    "# x2d_0, x2d_1 = get_sift_points(img_1, img_2)\n",
    "data = np.load(\"assignment/pair1/data.npz\")\n",
    "x2d_0 = data['x2d_0']\n",
    "x2d_1 = data['x2d_1']\n",
    "print(x2d_0)"
   ]
  },
  {
   "cell_type": "code",
   "execution_count": 6,
   "metadata": {},
   "outputs": [
    {
     "name": "stdout",
     "output_type": "stream",
     "text": [
      "[[   7.9794953  2444.80784576]\n",
      " [   8.42067408 2702.94678865]\n",
      " [  11.49769968 2574.82511052]\n",
      " ...\n",
      " [ 229.77824223 1899.67805973]\n",
      " [ 564.68426361 2436.50236839]\n",
      " [ 946.40992118 1877.96531199]]\n"
     ]
    }
   ],
   "source": [
    "print(x2d_1)"
   ]
  },
  {
   "cell_type": "code",
   "execution_count": 7,
   "metadata": {},
   "outputs": [],
   "source": [
    "# np.savez('assignment/pair1/data.npz', x2d_0=x2d_0, x2d_1=x2d_1)\n"
   ]
  },
  {
   "cell_type": "code",
   "execution_count": 8,
   "metadata": {},
   "outputs": [
    {
     "name": "stdout",
     "output_type": "stream",
     "text": [
      "F矩阵:  [[ 5.79219359e-08  2.82450883e-08 -8.64629155e-05]\n",
      " [ 1.93287271e-07  2.24239327e-07 -3.81320786e-04]\n",
      " [-5.17980261e-04 -5.70275184e-04  1.00000000e+00]]\n"
     ]
    }
   ],
   "source": [
    "F_est =eight_point_algo(x2d_0, x2d_1)\n",
    "F_est/= F_est[2,2]\n",
    "print('F矩阵: ', F_est)"
   ]
  },
  {
   "cell_type": "code",
   "execution_count": 9,
   "metadata": {},
   "outputs": [
    {
     "data": {
      "text/plain": [
       "array([2892.33032227, 2883.17504883,  823.2052002 ,  619.07086182])"
      ]
     },
     "execution_count": 9,
     "metadata": {},
     "output_type": "execute_result"
    }
   ],
   "source": [
    "K0 = np.loadtxt('assignment/pair1/K.txt', delimiter=',')\n",
    "K0"
   ]
  },
  {
   "cell_type": "code",
   "execution_count": 10,
   "metadata": {},
   "outputs": [],
   "source": [
    "def build_K(K):\n",
    "    a = np.zeros((3,3))\n",
    "    a[0][0] = K[0]\n",
    "    a[0][2] = K[2]\n",
    "    a[1][1] = K[1]\n",
    "    a[1][2] = K[3]\n",
    "    a[2][2] = 1\n",
    "    return a"
   ]
  },
  {
   "cell_type": "code",
   "execution_count": 11,
   "metadata": {},
   "outputs": [
    {
     "name": "stdout",
     "output_type": "stream",
     "text": [
      "[[2.89233032e+03 0.00000000e+00 8.23205200e+02]\n",
      " [0.00000000e+00 2.88317505e+03 6.19070862e+02]\n",
      " [0.00000000e+00 0.00000000e+00 1.00000000e+00]]\n"
     ]
    }
   ],
   "source": [
    "K = build_K(K0)\n",
    "print(K)"
   ]
  },
  {
   "cell_type": "code",
   "execution_count": 12,
   "metadata": {},
   "outputs": [
    {
     "data": {
      "text/plain": [
       "array([[ 18.59219886, -11.69075324,  -1.68184346],\n",
       "       [  9.8720854 ,  15.69663705,  -1.61319589],\n",
       "       [ -6.01542642, -10.08221315,   1.        ]])"
      ]
     },
     "execution_count": 12,
     "metadata": {},
     "output_type": "execute_result"
    }
   ],
   "source": [
    "E = essential_from_fundamental(F_est, K)\n",
    "E"
   ]
  },
  {
   "cell_type": "code",
   "execution_count": 13,
   "metadata": {},
   "outputs": [
    {
     "name": "stdout",
     "output_type": "stream",
     "text": [
      "[[-0.99977517 -0.01134071 -0.01791665]\n",
      " [-0.01134071 -0.42797119  0.90372122]\n",
      " [-0.01791665  0.90372122  0.42774636]] [-0.02120539  1.06960629  1.68982032]\n"
     ]
    }
   ],
   "source": [
    "R0, R1, T0, T1 = compute_rotation_translation(E)\n",
    "R = R1@R0.T\n",
    "T = (T1-R@T0).flatten()\n",
    "print(R,T)"
   ]
  },
  {
   "cell_type": "code",
   "execution_count": 14,
   "metadata": {},
   "outputs": [],
   "source": [
    "points_3D = triangulate_dlt(K, R, T, x2d_0 , x2d_1)"
   ]
  },
  {
   "cell_type": "code",
   "execution_count": 15,
   "metadata": {},
   "outputs": [
    {
     "name": "stdout",
     "output_type": "stream",
     "text": [
      "[[ 0.19318369 -0.26640087 -0.63677943]\n",
      " [ 0.24988593 -0.34532391 -0.65515946]\n",
      " [ 0.22804878 -0.09152554 -0.1294538 ]\n",
      " ...\n",
      " [ 0.13220304 -0.02156995 -0.51141683]\n",
      " [ 0.06478416 -0.00386345 -0.01259452]\n",
      " [-0.03187985  0.00602793 -0.45948338]]\n"
     ]
    }
   ],
   "source": [
    "print(points_3D)"
   ]
  },
  {
   "cell_type": "code",
   "execution_count": 16,
   "metadata": {},
   "outputs": [
    {
     "data": {
      "image/png": "[encoded data removed]",
      "text/plain": [
       "<Figure size 432x288 with 1 Axes>"
      ]
     },
     "metadata": {
      "needs_background": "light"
     },
     "output_type": "display_data"
    }
   ],
   "source": [
    "from matplotlib import pyplot as plt\n",
    "from mpl_toolkits.mplot3d import Axes3D\n",
    "\n",
    "plt.figure()  # 得到画面\n",
    "ax1 = plt.axes(projection='3d')\n",
    "ax1.set_xlim(0, 20)  # X轴，横向向右方向\n",
    "ax1.set_ylim(20, 0)  # Y轴,左向与X,Z轴互为垂直\n",
    "ax1.set_zlim(0, 20)  # 竖向为Z轴\n",
    "\n",
    "i = 0\n",
    "for x in points_3D:\n",
    "    ax1.scatter(x[0], x[1], x[2],  linewidths=4)  # 用散点函数画点\n",
    "    i += 1\n",
    "plt.show()\n"
   ]
  }
 ],
 "metadata": {
  "kernelspec": {
   "display_name": "Python 3.9.16 ('nlpLab')",
   "language": "python",
   "name": "python3"
  },
  "language_info": {
   "codemirror_mode": {
    "name": "ipython",
    "version": 3
   },
   "file_extension": ".py",
   "mimetype": "text/x-python",
   "name": "python",
   "nbconvert_exporter": "python",
   "pygments_lexer": "ipython3",
   "version": "3.9.16"
  },
  "orig_nbformat": 4,
  "vscode": {
   "interpreter": {
    "hash": "ca9c4663fc264401455c09d1d9560e2c0e0eb5afe0171ff3212bfb220d60ec78"
   }
  }
 },
 "nbformat": 4,
 "nbformat_minor": 2
}
